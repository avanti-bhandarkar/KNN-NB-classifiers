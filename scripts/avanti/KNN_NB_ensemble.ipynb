{
  "nbformat": 4,
  "nbformat_minor": 0,
  "metadata": {
    "colab": {
      "name": "KNN_NB_ensemble.ipynb",
      "provenance": []
    },
    "kernelspec": {
      "name": "python3",
      "display_name": "Python 3"
    }
  },
  "cells": [
    {
      "cell_type": "code",
      "metadata": {
        "id": "n_dJaRYnSBVH",
        "outputId": "07f5e60b-3365-4ce5-b179-af5262b5c51a",
        "colab": {
          "base_uri": "https://localhost:8080/",
          "height": 488
        }
      },
      "source": [
        "from sklearn.naive_bayes import GaussianNB \n",
        "from sklearn.neighbors import KNeighborsClassifier\n",
        "import numpy as np\n",
        "import pandas as pd\n",
        "from sklearn.model_selection import train_test_split\n",
        "from sklearn.preprocessing import StandardScaler\n",
        "from sklearn.ensemble import StackingClassifier\n",
        "from sklearn.linear_model import LogisticRegression\n",
        "from sklearn.metrics import plot_confusion_matrix\n",
        "import matplotlib.pyplot as plt\n",
        "from sklearn import metrics\n",
        "\n",
        "\n",
        "df=pd.read_csv('data-modified.csv')\n",
        "\n",
        "df[['schoolsup','famsup','paid','activities','nursery','higher','internet','romantic']]=np.where(df[['schoolsup','famsup','paid','activities','nursery','higher','internet','romantic']]=='no',0,1)\n",
        "df[['sex']]=np.where(df[['sex']]=='F',0,1)\n",
        "df[['address']]=np.where(df[['address']]=='R',0,1)\n",
        "df[['famsize']]=np.where(df[['famsize']]=='LE3',0,1)\n",
        "df[['Pstatus']]=np.where(df[['Pstatus']]=='A',0,1)\n",
        "df[['guardian']]=np.where(df[['guardian']]=='mother',0,1)\n",
        "df[['Alcuse']]=np.where(df[['Alcuse']]=='low',0,1)\n",
        "df = df.drop(columns=['school','Mjob','Fjob','reason','address','nursery','higher','Fedu','address'])\n",
        "\n",
        "X = df.loc[:, 'sex':'absences'].values\n",
        "y = df.loc[:, 'Alcuse':'Alcuse'].values.ravel()\n",
        "\n",
        "sc = StandardScaler()\n",
        "X = sc.fit_transform(X)\n",
        "\n",
        "               \n",
        "base_learners = [('bl_1', GaussianNB()),('bl_2', KNeighborsClassifier(n_neighbors=20))             \n",
        "                ]\n",
        "\n",
        "clf = StackingClassifier(estimators= base_learners, final_estimator=GaussianNB())\n",
        "X_train, X_test, y_train, y_test = train_test_split(X, y, stratify=y, random_state=10)\n",
        "clf.fit(X_train, y_train)\n",
        "\n",
        "predictions = clf.predict(X_test)\n",
        "score = clf.score(X_test, y_test)\n",
        "print('Best model score =',score)\n",
        "\n",
        "plot_confusion_matrix(clf, X_test, y_test,cmap = 'magma')\n",
        "plt.show()\n",
        "\n",
        "print('\\n Classification report for the model is: \\n')\n",
        "print(metrics.classification_report(y_test,predictions))"
      ],
      "execution_count": 46,
      "outputs": [
        {
          "output_type": "stream",
          "text": [
            "Best model score = 0.8181818181818182\n"
          ],
          "name": "stdout"
        },
        {
          "output_type": "display_data",
          "data": {
            "image/png": "[encoded data removed]",
            "text/plain": [
              "<Figure size 432x288 with 2 Axes>"
            ]
          },
          "metadata": {
            "tags": [],
            "needs_background": "light"
          }
        },
        {
          "output_type": "stream",
          "text": [
            "\n",
            " Classification report for the model is: \n",
            "\n",
            "              precision    recall  f1-score   support\n",
            "\n",
            "           0       0.82      0.94      0.88        69\n",
            "           1       0.80      0.53      0.64        30\n",
            "\n",
            "    accuracy                           0.82        99\n",
            "   macro avg       0.81      0.74      0.76        99\n",
            "weighted avg       0.82      0.82      0.81        99\n",
            "\n"
          ],
          "name": "stdout"
        }
      ]
    },
    {
      "cell_type": "code",
      "metadata": {
        "id": "mFE4IEghhI_0",
        "outputId": "7d6f25df-7015-4e63-ba17-1f80af36abbf",
        "colab": {
          "base_uri": "https://localhost:8080/",
          "height": 488
        }
      },
      "source": [
        "base_learners = [('bl_1', GaussianNB()),('bl_2', KNeighborsClassifier(n_neighbors=20))             \n",
        "                ]\n",
        "\n",
        "clf = StackingClassifier(estimators= base_learners, final_estimator=KNeighborsClassifier())\n",
        "X_train, X_test, y_train, y_test = train_test_split(X, y, stratify=y, random_state=10)\n",
        "clf.fit(X_train, y_train)\n",
        "\n",
        "predictions = clf.predict(X_test)\n",
        "score = clf.score(X_test, y_test)\n",
        "print('Best model score =',score)\n",
        "\n",
        "plot_confusion_matrix(clf, X_test, y_test,cmap = 'magma')\n",
        "plt.show()\n",
        "\n",
        "print('\\n Classification report for the model is: \\n')\n",
        "print(metrics.classification_report(y_test,predictions))"
      ],
      "execution_count": 47,
      "outputs": [
        {
          "output_type": "stream",
          "text": [
            "Best model score = 0.7777777777777778\n"
          ],
          "name": "stdout"
        },
        {
          "output_type": "display_data",
          "data": {
            "image/png": "[encoded data removed]",
            "text/plain": [
              "<Figure size 432x288 with 2 Axes>"
            ]
          },
          "metadata": {
            "tags": [],
            "needs_background": "light"
          }
        },
        {
          "output_type": "stream",
          "text": [
            "\n",
            " Classification report for the model is: \n",
            "\n",
            "              precision    recall  f1-score   support\n",
            "\n",
            "           0       0.79      0.93      0.85        69\n",
            "           1       0.72      0.43      0.54        30\n",
            "\n",
            "    accuracy                           0.78        99\n",
            "   macro avg       0.76      0.68      0.70        99\n",
            "weighted avg       0.77      0.78      0.76        99\n",
            "\n"
          ],
          "name": "stdout"
        }
      ]
    },
    {
      "cell_type": "code",
      "metadata": {
        "id": "mjBPgKHmhP2p",
        "outputId": "d7d63e4a-0a37-4e4f-f1ae-1761fd91065e",
        "colab": {
          "base_uri": "https://localhost:8080/",
          "height": 488
        }
      },
      "source": [
        "base_learners = [('bl_1', GaussianNB()),('bl_2', KNeighborsClassifier(n_neighbors=20))             \n",
        "                ]\n",
        "\n",
        "clf = StackingClassifier(estimators= base_learners, final_estimator=LogisticRegression())\n",
        "X_train, X_test, y_train, y_test = train_test_split(X, y, stratify=y, random_state=10)\n",
        "clf.fit(X_train, y_train)\n",
        "\n",
        "predictions = clf.predict(X_test)\n",
        "score = clf.score(X_test, y_test)\n",
        "print('Best model score =',score)\n",
        "\n",
        "plot_confusion_matrix(clf, X_test, y_test,cmap = 'magma')\n",
        "plt.show()\n",
        "\n",
        "print('\\n Classification report for the model is: \\n')\n",
        "print(metrics.classification_report(y_test,predictions))"
      ],
      "execution_count": 48,
      "outputs": [
        {
          "output_type": "stream",
          "text": [
            "Best model score = 0.7272727272727273\n"
          ],
          "name": "stdout"
        },
        {
          "output_type": "display_data",
          "data": {
            "image/png": "[encoded data removed]",
            "text/plain": [
              "<Figure size 432x288 with 2 Axes>"
            ]
          },
          "metadata": {
            "tags": [],
            "needs_background": "light"
          }
        },
        {
          "output_type": "stream",
          "text": [
            "\n",
            " Classification report for the model is: \n",
            "\n",
            "              precision    recall  f1-score   support\n",
            "\n",
            "           0       0.73      0.96      0.83        69\n",
            "           1       0.67      0.20      0.31        30\n",
            "\n",
            "    accuracy                           0.73        99\n",
            "   macro avg       0.70      0.58      0.57        99\n",
            "weighted avg       0.71      0.73      0.67        99\n",
            "\n"
          ],
          "name": "stdout"
        }
      ]
    }
  ]
}